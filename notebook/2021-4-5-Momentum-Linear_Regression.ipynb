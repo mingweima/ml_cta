{
 "cells": [
  {
   "cell_type": "code",
   "execution_count": 1,
   "metadata": {},
   "outputs": [],
   "source": [
    "import os\n",
    "import math\n",
    "import pandas as pd\n",
    "import numpy as np\n",
    "import matplotlib.pyplot as plt\n",
    "import matplotlib.pylab as pylab\n",
    "import seaborn as sns\n",
    "from math import sqrt\n",
    "from sklearn.metrics import confusion_matrix\n",
    "import statsmodels.api as sm\n",
    "import glob\n",
    "\n",
    "sns.set_style('white')"
   ]
  },
  {
   "cell_type": "code",
   "execution_count": 2,
   "metadata": {
    "scrolled": true
   },
   "outputs": [
    {
     "data": {
      "text/plain": [
       "['../data/2019/jmm.csv',\n",
       " '../data/2019/jm.csv',\n",
       " '../data/2019/egm.csv',\n",
       " '../data/2019/lm.csv',\n",
       " '../data/2019/cum.csv',\n",
       " '../data/2019/hcm.csv',\n",
       " '../data/2019/rbm.csv',\n",
       " '../data/2019/smm.csv',\n",
       " '../data/2019/im.csv',\n",
       " '../data/2019/ppm.csv',\n",
       " '../data/2019/alm.csv',\n",
       " '../data/2019/nim.csv',\n",
       " '../data/2019/cfm.csv',\n",
       " '../data/2019/tam.csv',\n",
       " '../data/2019/pbm.csv',\n",
       " '../data/2019/znm.csv',\n",
       " '../data/2019/mam.csv',\n",
       " '../data/2019/ebm.csv',\n",
       " '../data/2019/agm.csv',\n",
       " '../data/2019/srm.csv',\n",
       " '../data/2019/vm.csv',\n",
       " '../data/2019/snm.csv',\n",
       " '../data/2019/oim.csv',\n",
       " '../data/2019/rum.csv',\n",
       " '../data/2019/bum.csv']"
      ]
     },
     "execution_count": 2,
     "metadata": {},
     "output_type": "execute_result"
    }
   ],
   "source": [
    "filename_2019 = glob.glob('../data/2019/*.csv')\n",
    "filename_2019"
   ]
  },
  {
   "cell_type": "code",
   "execution_count": 3,
   "metadata": {},
   "outputs": [
    {
     "data": {
      "text/html": [
       "<div>\n",
       "<style scoped>\n",
       "    .dataframe tbody tr th:only-of-type {\n",
       "        vertical-align: middle;\n",
       "    }\n",
       "\n",
       "    .dataframe tbody tr th {\n",
       "        vertical-align: top;\n",
       "    }\n",
       "\n",
       "    .dataframe thead th {\n",
       "        text-align: right;\n",
       "    }\n",
       "</style>\n",
       "<table border=\"1\" class=\"dataframe\">\n",
       "  <thead>\n",
       "    <tr style=\"text-align: right;\">\n",
       "      <th></th>\n",
       "      <th>type</th>\n",
       "      <th>code</th>\n",
       "      <th>time</th>\n",
       "      <th>open</th>\n",
       "      <th>high</th>\n",
       "      <th>low</th>\n",
       "      <th>close</th>\n",
       "      <th>volume</th>\n",
       "      <th>turnover</th>\n",
       "      <th>open interest</th>\n",
       "    </tr>\n",
       "  </thead>\n",
       "  <tbody>\n",
       "    <tr>\n",
       "      <th>0</th>\n",
       "      <td>DC</td>\n",
       "      <td>jm1905</td>\n",
       "      <td>2019-01-02 09:01:00</td>\n",
       "      <td>1171.0</td>\n",
       "      <td>1176.0</td>\n",
       "      <td>1169.0</td>\n",
       "      <td>1172.5</td>\n",
       "      <td>4228.0</td>\n",
       "      <td>297235260.0</td>\n",
       "      <td>212034</td>\n",
       "    </tr>\n",
       "    <tr>\n",
       "      <th>1</th>\n",
       "      <td>DC</td>\n",
       "      <td>jm1905</td>\n",
       "      <td>2019-01-02 09:02:00</td>\n",
       "      <td>1172.5</td>\n",
       "      <td>1176.5</td>\n",
       "      <td>1172.5</td>\n",
       "      <td>1174.0</td>\n",
       "      <td>1828.0</td>\n",
       "      <td>128881500.0</td>\n",
       "      <td>211456</td>\n",
       "    </tr>\n",
       "    <tr>\n",
       "      <th>2</th>\n",
       "      <td>DC</td>\n",
       "      <td>jm1905</td>\n",
       "      <td>2019-01-02 09:03:00</td>\n",
       "      <td>1174.0</td>\n",
       "      <td>1176.5</td>\n",
       "      <td>1174.0</td>\n",
       "      <td>1175.5</td>\n",
       "      <td>1482.0</td>\n",
       "      <td>104521260.0</td>\n",
       "      <td>211368</td>\n",
       "    </tr>\n",
       "    <tr>\n",
       "      <th>3</th>\n",
       "      <td>DC</td>\n",
       "      <td>jm1905</td>\n",
       "      <td>2019-01-02 09:04:00</td>\n",
       "      <td>1175.5</td>\n",
       "      <td>1176.0</td>\n",
       "      <td>1173.0</td>\n",
       "      <td>1174.0</td>\n",
       "      <td>850.0</td>\n",
       "      <td>59894700.0</td>\n",
       "      <td>211380</td>\n",
       "    </tr>\n",
       "    <tr>\n",
       "      <th>4</th>\n",
       "      <td>DC</td>\n",
       "      <td>jm1905</td>\n",
       "      <td>2019-01-02 09:05:00</td>\n",
       "      <td>1174.0</td>\n",
       "      <td>1175.0</td>\n",
       "      <td>1174.0</td>\n",
       "      <td>1174.0</td>\n",
       "      <td>590.0</td>\n",
       "      <td>41572980.0</td>\n",
       "      <td>211252</td>\n",
       "    </tr>\n",
       "    <tr>\n",
       "      <th>...</th>\n",
       "      <td>...</td>\n",
       "      <td>...</td>\n",
       "      <td>...</td>\n",
       "      <td>...</td>\n",
       "      <td>...</td>\n",
       "      <td>...</td>\n",
       "      <td>...</td>\n",
       "      <td>...</td>\n",
       "      <td>...</td>\n",
       "      <td>...</td>\n",
       "    </tr>\n",
       "    <tr>\n",
       "      <th>85015</th>\n",
       "      <td>DC</td>\n",
       "      <td>jm2005</td>\n",
       "      <td>2019-12-31 14:56:00</td>\n",
       "      <td>1163.5</td>\n",
       "      <td>1165.5</td>\n",
       "      <td>1162.5</td>\n",
       "      <td>1165.5</td>\n",
       "      <td>1746.0</td>\n",
       "      <td>121952160.0</td>\n",
       "      <td>155608</td>\n",
       "    </tr>\n",
       "    <tr>\n",
       "      <th>85016</th>\n",
       "      <td>DC</td>\n",
       "      <td>jm2005</td>\n",
       "      <td>2019-12-31 14:57:00</td>\n",
       "      <td>1165.0</td>\n",
       "      <td>1165.5</td>\n",
       "      <td>1164.5</td>\n",
       "      <td>1165.5</td>\n",
       "      <td>614.0</td>\n",
       "      <td>42924960.0</td>\n",
       "      <td>155662</td>\n",
       "    </tr>\n",
       "    <tr>\n",
       "      <th>85017</th>\n",
       "      <td>DC</td>\n",
       "      <td>jm2005</td>\n",
       "      <td>2019-12-31 14:58:00</td>\n",
       "      <td>1165.0</td>\n",
       "      <td>1166.0</td>\n",
       "      <td>1165.0</td>\n",
       "      <td>1165.0</td>\n",
       "      <td>630.0</td>\n",
       "      <td>44048940.0</td>\n",
       "      <td>155544</td>\n",
       "    </tr>\n",
       "    <tr>\n",
       "      <th>85018</th>\n",
       "      <td>DC</td>\n",
       "      <td>jm2005</td>\n",
       "      <td>2019-12-31 14:59:00</td>\n",
       "      <td>1165.5</td>\n",
       "      <td>1166.0</td>\n",
       "      <td>1165.0</td>\n",
       "      <td>1165.5</td>\n",
       "      <td>538.0</td>\n",
       "      <td>37614480.0</td>\n",
       "      <td>155648</td>\n",
       "    </tr>\n",
       "    <tr>\n",
       "      <th>85019</th>\n",
       "      <td>DC</td>\n",
       "      <td>jm2005</td>\n",
       "      <td>2019-12-31 15:00:00</td>\n",
       "      <td>1165.0</td>\n",
       "      <td>1166.5</td>\n",
       "      <td>1164.0</td>\n",
       "      <td>1164.5</td>\n",
       "      <td>1366.0</td>\n",
       "      <td>95503440.0</td>\n",
       "      <td>155610</td>\n",
       "    </tr>\n",
       "  </tbody>\n",
       "</table>\n",
       "<p>85020 rows × 10 columns</p>\n",
       "</div>"
      ],
      "text/plain": [
       "      type    code                time    open    high     low   close  \\\n",
       "0       DC  jm1905 2019-01-02 09:01:00  1171.0  1176.0  1169.0  1172.5   \n",
       "1       DC  jm1905 2019-01-02 09:02:00  1172.5  1176.5  1172.5  1174.0   \n",
       "2       DC  jm1905 2019-01-02 09:03:00  1174.0  1176.5  1174.0  1175.5   \n",
       "3       DC  jm1905 2019-01-02 09:04:00  1175.5  1176.0  1173.0  1174.0   \n",
       "4       DC  jm1905 2019-01-02 09:05:00  1174.0  1175.0  1174.0  1174.0   \n",
       "...    ...     ...                 ...     ...     ...     ...     ...   \n",
       "85015   DC  jm2005 2019-12-31 14:56:00  1163.5  1165.5  1162.5  1165.5   \n",
       "85016   DC  jm2005 2019-12-31 14:57:00  1165.0  1165.5  1164.5  1165.5   \n",
       "85017   DC  jm2005 2019-12-31 14:58:00  1165.0  1166.0  1165.0  1165.0   \n",
       "85018   DC  jm2005 2019-12-31 14:59:00  1165.5  1166.0  1165.0  1165.5   \n",
       "85019   DC  jm2005 2019-12-31 15:00:00  1165.0  1166.5  1164.0  1164.5   \n",
       "\n",
       "       volume     turnover  open interest  \n",
       "0      4228.0  297235260.0         212034  \n",
       "1      1828.0  128881500.0         211456  \n",
       "2      1482.0  104521260.0         211368  \n",
       "3       850.0   59894700.0         211380  \n",
       "4       590.0   41572980.0         211252  \n",
       "...       ...          ...            ...  \n",
       "85015  1746.0  121952160.0         155608  \n",
       "85016   614.0   42924960.0         155662  \n",
       "85017   630.0   44048940.0         155544  \n",
       "85018   538.0   37614480.0         155648  \n",
       "85019  1366.0   95503440.0         155610  \n",
       "\n",
       "[85020 rows x 10 columns]"
      ]
     },
     "execution_count": 3,
     "metadata": {},
     "output_type": "execute_result"
    }
   ],
   "source": [
    "df = pd.read_csv(filename_2019[0], index_col=0, encoding='gbk')\n",
    "df.columns = ['code', 'time', 'open', 'high', 'low', 'close', 'volume', 'turnover', 'open interest']\n",
    "df.rename_axis(\"type\", axis='index', inplace=True)\n",
    "df['time'] = pd.to_datetime(df['time'])\n",
    "\n",
    "df.reset_index(inplace=True)\n",
    "df"
   ]
  },
  {
   "cell_type": "code",
   "execution_count": 4,
   "metadata": {},
   "outputs": [
    {
     "data": {
      "image/png": "[encoded data removed]",
      "text/plain": [
       "<Figure size 864x288 with 1 Axes>"
      ]
     },
     "metadata": {},
     "output_type": "display_data"
    }
   ],
   "source": [
    "df[['close']].plot(grid=False, figsize=(12,4))\n",
    "sns.despine()"
   ]
  },
  {
   "cell_type": "code",
   "execution_count": 5,
   "metadata": {},
   "outputs": [],
   "source": [
    "df['one_minute_return'] = df['close'].shift(-1) - df['close']\n",
    "df['five_minute_return'] = df['close'].shift(-5) - df['close']\n",
    "df['fifteen_minute_return'] = df['close'].shift(-15) - df['close']\n",
    "df['thirty_minute_return'] = df['close'].shift(-30) - df['close']\n",
    "df['hour_return'] = df['close'].shift(-60) - df['close']"
   ]
  },
  {
   "cell_type": "code",
   "execution_count": 6,
   "metadata": {},
   "outputs": [],
   "source": [
    "times = ['one_minute_return','five_minute_return', 'fifteen_minute_return', 'thirty_minute_return', 'hour_return']"
   ]
  },
  {
   "cell_type": "code",
   "execution_count": 7,
   "metadata": {},
   "outputs": [],
   "source": [
    "# Drop NaN\n",
    "df.drop(df.tail(60).index,inplace=True) "
   ]
  },
  {
   "cell_type": "code",
   "execution_count": 8,
   "metadata": {},
   "outputs": [
    {
     "data": {
      "text/plain": [
       "0        1.5\n",
       "1        1.5\n",
       "2       -1.5\n",
       "3        0.0\n",
       "4       -2.5\n",
       "        ... \n",
       "84955    0.0\n",
       "84956    0.0\n",
       "84957   -0.5\n",
       "84958    0.0\n",
       "84959   -1.0\n",
       "Name: one_minute_return, Length: 84960, dtype: float64"
      ]
     },
     "execution_count": 8,
     "metadata": {},
     "output_type": "execute_result"
    }
   ],
   "source": [
    "df['one_minute_return']"
   ]
  },
  {
   "cell_type": "code",
   "execution_count": 9,
   "metadata": {},
   "outputs": [],
   "source": [
    "short_period = [2, 4, 8, 16, 32, 64]\n",
    "long_period = [8, 16, 32, 64, 128, 256]\n",
    "\n",
    "df['short_ewm'] = df['close'].ewm(span=short_period[2]).mean()\n",
    "df['long_ewm'] = df['close'].ewm(span=long_period[2]).mean()"
   ]
  },
  {
   "cell_type": "code",
   "execution_count": 10,
   "metadata": {},
   "outputs": [],
   "source": [
    "def calculate_hull_moving_average(df, period):\n",
    "\n",
    "    df['window_t_ewm'] = df['close'].ewm(span=period).mean()\n",
    "    df['window_half_ewm'] = df['close'].ewm(span=period/2).mean()\n",
    "    df['diff']=df['window_half_ewm'] * 2 - df['window_t_ewm']\n",
    "    \n",
    "    df[f'hma{period}']=df['diff'].ewm(span=int(math.sqrt(period))).mean()\n",
    "    \n",
    "    irrelevant_col = ['window_t_ewm', 'window_half_ewm', 'diff']\n",
    "    df.drop(columns=irrelevant_col, inplace = True)\n",
    "    \n",
    "calculate_hull_moving_average(df, short_period[2])\n",
    "calculate_hull_moving_average(df, long_period[2])"
   ]
  },
  {
   "cell_type": "code",
   "execution_count": 11,
   "metadata": {},
   "outputs": [
    {
     "data": {
      "image/png": "[encoded data removed]",
      "text/plain": [
       "<Figure size 864x288 with 1 Axes>"
      ]
     },
     "metadata": {},
     "output_type": "display_data"
    }
   ],
   "source": [
    "df['short_long_diff'] = df[f'hma{short_period[2]}'] - df[f'hma{long_period[2]}']\n",
    "\n",
    "short_long_diff_std = df['short_long_diff'].std()\n",
    "\n",
    "df['momentum'] = df['short_long_diff'] / short_long_diff_std\n",
    "\n",
    "df['momentum'].plot(grid=False, figsize=(12,4))\n",
    "sns.despine()"
   ]
  },
  {
   "cell_type": "code",
   "execution_count": 12,
   "metadata": {},
   "outputs": [
    {
     "name": "stdout",
     "output_type": "stream",
     "text": [
      "                            OLS Regression Results                            \n",
      "==============================================================================\n",
      "Dep. Variable:      one_minute_return   R-squared:                       0.002\n",
      "Model:                            OLS   Adj. R-squared:                  0.002\n",
      "Method:                 Least Squares   F-statistic:                     140.1\n",
      "Date:                Mon, 05 Apr 2021   Prob (F-statistic):           2.69e-32\n",
      "Time:                        17:02:49   Log-Likelihood:            -1.2132e+05\n",
      "No. Observations:               84960   AIC:                         2.426e+05\n",
      "Df Residuals:                   84958   BIC:                         2.427e+05\n",
      "Df Model:                           1                                         \n",
      "Covariance Type:            nonrobust                                         \n",
      "==============================================================================\n",
      "                 coef    std err          t      P>|t|      [0.025      0.975]\n",
      "------------------------------------------------------------------------------\n",
      "const      -3.718e-05      0.003     -0.011      0.991      -0.007       0.007\n",
      "momentum      -0.0410      0.003    -11.836      0.000      -0.048      -0.034\n",
      "==============================================================================\n",
      "Omnibus:                   117087.997   Durbin-Watson:                   2.142\n",
      "Prob(Omnibus):                  0.000   Jarque-Bera (JB):       8755690296.949\n",
      "Skew:                           6.262   Prob(JB):                         0.00\n",
      "Kurtosis:                    1575.642   Cond. No.                         1.00\n",
      "==============================================================================\n",
      "\n",
      "Notes:\n",
      "[1] Standard Errors assume that the covariance matrix of the errors is correctly specified.\n",
      "Parameters:  -0.040975108879776324\n",
      "P Values:  const       9.914315e-01\n",
      "momentum    2.688064e-32\n",
      "dtype: float64\n"
     ]
    }
   ],
   "source": [
    "X2 = sm.add_constant(df['momentum'])\n",
    "est = sm.OLS(df['one_minute_return'], X2, missing='drop')\n",
    "results = est.fit()\n",
    "print(results.summary())\n",
    "print(\"Parameters: \", results.params['momentum'])\n",
    "print(\"P Values: \", results.pvalues)"
   ]
  },
  {
   "cell_type": "code",
   "execution_count": 13,
   "metadata": {},
   "outputs": [],
   "source": [
    "threshold = [0, 0.1, 0.25, 0.5, 0.75, 1, 2]"
   ]
  },
  {
   "cell_type": "code",
   "execution_count": 14,
   "metadata": {},
   "outputs": [],
   "source": [
    "def calculate_future_return(data):\n",
    "    data['one_minute_return'] = data['close'].shift(-1) - data['close']\n",
    "    data['five_minute_return'] = data['close'].shift(-5) - data['close']\n",
    "    data['fifteen_minute_return'] = data['close'].shift(-15) - data['close']\n",
    "    data['thirty_minute_return'] = data['close'].shift(-30) - data['close']\n",
    "    data['hour_return'] = data['close'].shift(-60) - data['close']\n",
    "    # Drop NaN\n",
    "    df.drop(df.tail(60).index,inplace=True) "
   ]
  },
  {
   "cell_type": "code",
   "execution_count": 15,
   "metadata": {},
   "outputs": [],
   "source": [
    "def calculate_momentum(data, short_period, long_period, hma=True):\n",
    "    if (hma):\n",
    "        calculate_hull_moving_average(data, short_period)\n",
    "        calculate_hull_moving_average(data, long_period)\n",
    "        data['short_long_diff'] = data[f'hma{short_period}'] - data[f'hma{long_period}']\n",
    "        short_long_diff_std = data['short_long_diff'].std()\n",
    "        data['momentum'] = data['short_long_diff'] / short_long_diff_std\n",
    "        \n",
    "        used_col = ['short_long_diff', f'hma{short_period}', f'hma{long_period}']\n",
    "        data.drop(columns=used_col, inplace = True)\n",
    "        \n",
    "    else:\n",
    "        data['short_ewm'] = data['close'].ewm(span=short_period).mean()\n",
    "        data['long_ewm'] = data['close'].ewm(span=long_period).mean()\n",
    "        data['short_long_diff'] = data['short_ewm'] - data['long_ewm']\n",
    "        short_long_diff_std = data['short_long_diff'].std()\n",
    "        data['momentum'] = data['short_long_diff'] / short_long_diff_std\n",
    "        \n",
    "        used_col = ['short_long_diff', data['short_ewm'], data['short_ewm']]\n",
    "        data.drop(columns=used_col, inplace = True)"
   ]
  },
  {
   "cell_type": "code",
   "execution_count": 16,
   "metadata": {},
   "outputs": [],
   "source": [
    "def linear_regression_parameters_of_momentum(data, time = 'one_minute_return'):\n",
    "    X2 = sm.add_constant(data['momentum'])\n",
    "    est = sm.OLS(data[time], X2, missing='drop')\n",
    "    results = est.fit()\n",
    "    # print(results.summary())\n",
    "    parameter = results.params['momentum']\n",
    "    r_square = results.rsquared\n",
    "    \n",
    "    return parameter, r_square"
   ]
  },
  {
   "cell_type": "markdown",
   "metadata": {},
   "source": [
    "沪银主力（AGM），表格Index为均线Window长度（short-long），Column为Return Time Window"
   ]
  },
  {
   "cell_type": "code",
   "execution_count": 25,
   "metadata": {},
   "outputs": [],
   "source": [
    "# data = pd.read_csv(filename_2019[0], index_col=0, encoding='gbk')\n",
    "# data = pd.read_csv('../data/2019/agm.csv', index_col=0, encoding='gbk')\n",
    "\n",
    "data.columns = ['code', 'time', 'open', 'high', 'low', 'close', 'volume', 'turnover', 'open interest']\n",
    "data.rename_axis(\"type\", axis='index', inplace=True)\n",
    "data['time'] = pd.to_datetime(data['time'])\n",
    "\n",
    "data.reset_index(inplace=True)\n",
    "calculate_future_return(data)"
   ]
  },
  {
   "cell_type": "code",
   "execution_count": 26,
   "metadata": {},
   "outputs": [],
   "source": [
    "parameters = []\n",
    "r_squares = []\n",
    "for i in range(len(short_period)):\n",
    "    calculate_momentum(data, short_period[i], long_period[i])\n",
    "    current_window_parameter = []\n",
    "    current_window_r_square = []\n",
    "    for j in range(len(times)):\n",
    "        sum_return, sharpe = linear_regression_parameters_of_momentum(data, times[j])\n",
    "        current_window_parameter.append(sum_return)\n",
    "        current_window_r_square.append(sharpe)\n",
    "    parameters.append(current_window_parameter)\n",
    "    r_squares.append(current_window_r_square)"
   ]
  },
  {
   "cell_type": "code",
   "execution_count": 27,
   "metadata": {},
   "outputs": [
    {
     "name": "stdout",
     "output_type": "stream",
     "text": [
      "Regression Parameter\n"
     ]
    },
    {
     "data": {
      "text/html": [
       "<div>\n",
       "<style scoped>\n",
       "    .dataframe tbody tr th:only-of-type {\n",
       "        vertical-align: middle;\n",
       "    }\n",
       "\n",
       "    .dataframe tbody tr th {\n",
       "        vertical-align: top;\n",
       "    }\n",
       "\n",
       "    .dataframe thead th {\n",
       "        text-align: right;\n",
       "    }\n",
       "</style>\n",
       "<table border=\"1\" class=\"dataframe\">\n",
       "  <thead>\n",
       "    <tr style=\"text-align: right;\">\n",
       "      <th></th>\n",
       "      <th>one_minute_return</th>\n",
       "      <th>five_minute_return</th>\n",
       "      <th>fifteen_minute_return</th>\n",
       "      <th>thirty_minute_return</th>\n",
       "      <th>hour_return</th>\n",
       "    </tr>\n",
       "  </thead>\n",
       "  <tbody>\n",
       "    <tr>\n",
       "      <th>2-8</th>\n",
       "      <td>-0.105370</td>\n",
       "      <td>-0.203153</td>\n",
       "      <td>-0.239384</td>\n",
       "      <td>-0.206108</td>\n",
       "      <td>-0.210832</td>\n",
       "    </tr>\n",
       "    <tr>\n",
       "      <th>4-16</th>\n",
       "      <td>-0.084907</td>\n",
       "      <td>-0.228265</td>\n",
       "      <td>-0.222060</td>\n",
       "      <td>-0.157874</td>\n",
       "      <td>-0.196999</td>\n",
       "    </tr>\n",
       "    <tr>\n",
       "      <th>8-32</th>\n",
       "      <td>-0.062569</td>\n",
       "      <td>-0.163538</td>\n",
       "      <td>-0.090759</td>\n",
       "      <td>-0.034309</td>\n",
       "      <td>-0.127927</td>\n",
       "    </tr>\n",
       "    <tr>\n",
       "      <th>16-64</th>\n",
       "      <td>-0.024131</td>\n",
       "      <td>-0.043580</td>\n",
       "      <td>0.044677</td>\n",
       "      <td>0.023419</td>\n",
       "      <td>-0.115471</td>\n",
       "    </tr>\n",
       "    <tr>\n",
       "      <th>32-128</th>\n",
       "      <td>-0.007336</td>\n",
       "      <td>-0.004399</td>\n",
       "      <td>0.028562</td>\n",
       "      <td>-0.034357</td>\n",
       "      <td>-0.083459</td>\n",
       "    </tr>\n",
       "    <tr>\n",
       "      <th>64-256</th>\n",
       "      <td>0.000260</td>\n",
       "      <td>0.010184</td>\n",
       "      <td>0.030719</td>\n",
       "      <td>0.030911</td>\n",
       "      <td>0.158997</td>\n",
       "    </tr>\n",
       "  </tbody>\n",
       "</table>\n",
       "</div>"
      ],
      "text/plain": [
       "        one_minute_return  five_minute_return  fifteen_minute_return  \\\n",
       "2-8             -0.105370           -0.203153              -0.239384   \n",
       "4-16            -0.084907           -0.228265              -0.222060   \n",
       "8-32            -0.062569           -0.163538              -0.090759   \n",
       "16-64           -0.024131           -0.043580               0.044677   \n",
       "32-128          -0.007336           -0.004399               0.028562   \n",
       "64-256           0.000260            0.010184               0.030719   \n",
       "\n",
       "        thirty_minute_return  hour_return  \n",
       "2-8                -0.206108    -0.210832  \n",
       "4-16               -0.157874    -0.196999  \n",
       "8-32               -0.034309    -0.127927  \n",
       "16-64               0.023419    -0.115471  \n",
       "32-128             -0.034357    -0.083459  \n",
       "64-256              0.030911     0.158997  "
      ]
     },
     "execution_count": 27,
     "metadata": {},
     "output_type": "execute_result"
    }
   ],
   "source": [
    "# parameters\n",
    "parameters_df = pd.DataFrame.from_records(parameters, index =['2-8','4-16','8-32','16-64', '32-128', '64-256'])\n",
    "parameters_df.columns = times\n",
    "print('Regression Parameter')\n",
    "parameters_df"
   ]
  },
  {
   "cell_type": "code",
   "execution_count": 28,
   "metadata": {},
   "outputs": [
    {
     "name": "stdout",
     "output_type": "stream",
     "text": [
      "R-Squared\n"
     ]
    },
    {
     "data": {
      "text/html": [
       "<div>\n",
       "<style scoped>\n",
       "    .dataframe tbody tr th:only-of-type {\n",
       "        vertical-align: middle;\n",
       "    }\n",
       "\n",
       "    .dataframe tbody tr th {\n",
       "        vertical-align: top;\n",
       "    }\n",
       "\n",
       "    .dataframe thead th {\n",
       "        text-align: right;\n",
       "    }\n",
       "</style>\n",
       "<table border=\"1\" class=\"dataframe\">\n",
       "  <thead>\n",
       "    <tr style=\"text-align: right;\">\n",
       "      <th></th>\n",
       "      <th>one_minute_return</th>\n",
       "      <th>five_minute_return</th>\n",
       "      <th>fifteen_minute_return</th>\n",
       "      <th>thirty_minute_return</th>\n",
       "      <th>hour_return</th>\n",
       "    </tr>\n",
       "  </thead>\n",
       "  <tbody>\n",
       "    <tr>\n",
       "      <th>2-8</th>\n",
       "      <td>4.466649e-03</td>\n",
       "      <td>0.003851</td>\n",
       "      <td>0.001967</td>\n",
       "      <td>0.000735</td>\n",
       "      <td>0.000388</td>\n",
       "    </tr>\n",
       "    <tr>\n",
       "      <th>4-16</th>\n",
       "      <td>2.900277e-03</td>\n",
       "      <td>0.004862</td>\n",
       "      <td>0.001693</td>\n",
       "      <td>0.000431</td>\n",
       "      <td>0.000339</td>\n",
       "    </tr>\n",
       "    <tr>\n",
       "      <th>8-32</th>\n",
       "      <td>1.574927e-03</td>\n",
       "      <td>0.002496</td>\n",
       "      <td>0.000283</td>\n",
       "      <td>0.000020</td>\n",
       "      <td>0.000143</td>\n",
       "    </tr>\n",
       "    <tr>\n",
       "      <th>16-64</th>\n",
       "      <td>2.342620e-04</td>\n",
       "      <td>0.000177</td>\n",
       "      <td>0.000069</td>\n",
       "      <td>0.000009</td>\n",
       "      <td>0.000116</td>\n",
       "    </tr>\n",
       "    <tr>\n",
       "      <th>32-128</th>\n",
       "      <td>2.165320e-05</td>\n",
       "      <td>0.000002</td>\n",
       "      <td>0.000028</td>\n",
       "      <td>0.000020</td>\n",
       "      <td>0.000061</td>\n",
       "    </tr>\n",
       "    <tr>\n",
       "      <th>64-256</th>\n",
       "      <td>2.714756e-08</td>\n",
       "      <td>0.000010</td>\n",
       "      <td>0.000032</td>\n",
       "      <td>0.000017</td>\n",
       "      <td>0.000221</td>\n",
       "    </tr>\n",
       "  </tbody>\n",
       "</table>\n",
       "</div>"
      ],
      "text/plain": [
       "        one_minute_return  five_minute_return  fifteen_minute_return  \\\n",
       "2-8          4.466649e-03            0.003851               0.001967   \n",
       "4-16         2.900277e-03            0.004862               0.001693   \n",
       "8-32         1.574927e-03            0.002496               0.000283   \n",
       "16-64        2.342620e-04            0.000177               0.000069   \n",
       "32-128       2.165320e-05            0.000002               0.000028   \n",
       "64-256       2.714756e-08            0.000010               0.000032   \n",
       "\n",
       "        thirty_minute_return  hour_return  \n",
       "2-8                 0.000735     0.000388  \n",
       "4-16                0.000431     0.000339  \n",
       "8-32                0.000020     0.000143  \n",
       "16-64               0.000009     0.000116  \n",
       "32-128              0.000020     0.000061  \n",
       "64-256              0.000017     0.000221  "
      ]
     },
     "execution_count": 28,
     "metadata": {},
     "output_type": "execute_result"
    }
   ],
   "source": [
    "# r_squares\n",
    "r_squares_df = pd.DataFrame.from_records(r_squares, index =['2-8','4-16','8-32','16-64', '32-128', '64-256'])\n",
    "r_squares_df.columns = times\n",
    "print('R-Squared')\n",
    "r_squares_df"
   ]
  },
  {
   "cell_type": "code",
   "execution_count": null,
   "metadata": {},
   "outputs": [],
   "source": []
  }
 ],
 "metadata": {
  "kernelspec": {
   "display_name": "Python 3",
   "language": "python",
   "name": "python3"
  },
  "language_info": {
   "codemirror_mode": {
    "name": "ipython",
    "version": 3
   },
   "file_extension": ".py",
   "mimetype": "text/x-python",
   "name": "python",
   "nbconvert_exporter": "python",
   "pygments_lexer": "ipython3",
   "version": "3.8.5"
  }
 },
 "nbformat": 4,
 "nbformat_minor": 4
}
