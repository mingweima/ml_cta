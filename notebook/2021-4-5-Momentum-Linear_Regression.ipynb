{
 "cells": [
  {
   "cell_type": "code",
   "execution_count": 1,
   "metadata": {},
   "outputs": [],
   "source": [
    "import os\n",
    "import math\n",
    "import pandas as pd\n",
    "import numpy as np\n",
    "import matplotlib.pyplot as plt\n",
    "import matplotlib.pylab as pylab\n",
    "import seaborn as sns\n",
    "import glob\n",
    "import statsmodels.api as sm\n",
    "from statsmodels.stats.diagnostic import het_white\n",
    "from statsmodels.compat import lzip\n",
    "from patsy import dmatrices\n",
    "from math import sqrt\n",
    "sns.set_style('white')"
   ]
  },
  {
   "cell_type": "code",
   "execution_count": 2,
   "metadata": {
    "scrolled": true
   },
   "outputs": [
    {
     "data": {
      "text/plain": [
       "['../data/2019/agm.csv',\n",
       " '../data/2019/alm.csv',\n",
       " '../data/2019/bum.csv',\n",
       " '../data/2019/cfm.csv',\n",
       " '../data/2019/cum.csv',\n",
       " '../data/2019/ebm.csv',\n",
       " '../data/2019/egm.csv',\n",
       " '../data/2019/hcm.csv',\n",
       " '../data/2019/im.csv',\n",
       " '../data/2019/jm.csv',\n",
       " '../data/2019/jmm.csv',\n",
       " '../data/2019/lm.csv',\n",
       " '../data/2019/mam.csv',\n",
       " '../data/2019/nim.csv',\n",
       " '../data/2019/oim.csv',\n",
       " '../data/2019/pbm.csv',\n",
       " '../data/2019/ppm.csv',\n",
       " '../data/2019/rbm.csv',\n",
       " '../data/2019/rum.csv',\n",
       " '../data/2019/smm.csv',\n",
       " '../data/2019/snm.csv',\n",
       " '../data/2019/srm.csv',\n",
       " '../data/2019/tam.csv',\n",
       " '../data/2019/vm.csv',\n",
       " '../data/2019/znm.csv']"
      ]
     },
     "execution_count": 2,
     "metadata": {},
     "output_type": "execute_result"
    }
   ],
   "source": [
    "filename_2019 = glob.glob('../data/2019/*.csv')\n",
    "filename_2019.sort()\n",
    "filename_2019"
   ]
  },
  {
   "cell_type": "code",
   "execution_count": 3,
   "metadata": {},
   "outputs": [
    {
     "data": {
      "text/html": [
       "<div>\n",
       "<style scoped>\n",
       "    .dataframe tbody tr th:only-of-type {\n",
       "        vertical-align: middle;\n",
       "    }\n",
       "\n",
       "    .dataframe tbody tr th {\n",
       "        vertical-align: top;\n",
       "    }\n",
       "\n",
       "    .dataframe thead th {\n",
       "        text-align: right;\n",
       "    }\n",
       "</style>\n",
       "<table border=\"1\" class=\"dataframe\">\n",
       "  <thead>\n",
       "    <tr style=\"text-align: right;\">\n",
       "      <th></th>\n",
       "      <th>type</th>\n",
       "      <th>code</th>\n",
       "      <th>time</th>\n",
       "      <th>open</th>\n",
       "      <th>high</th>\n",
       "      <th>low</th>\n",
       "      <th>close</th>\n",
       "      <th>volume</th>\n",
       "      <th>turnover</th>\n",
       "      <th>open interest</th>\n",
       "    </tr>\n",
       "  </thead>\n",
       "  <tbody>\n",
       "    <tr>\n",
       "      <th>0</th>\n",
       "      <td>SC</td>\n",
       "      <td>ag1906</td>\n",
       "      <td>2019-01-02 09:01:00</td>\n",
       "      <td>3700.0</td>\n",
       "      <td>3700.0</td>\n",
       "      <td>3689.0</td>\n",
       "      <td>3693.0</td>\n",
       "      <td>16680.0</td>\n",
       "      <td>924595320.0</td>\n",
       "      <td>704740</td>\n",
       "    </tr>\n",
       "    <tr>\n",
       "      <th>1</th>\n",
       "      <td>SC</td>\n",
       "      <td>ag1906</td>\n",
       "      <td>2019-01-02 09:02:00</td>\n",
       "      <td>3693.0</td>\n",
       "      <td>3695.0</td>\n",
       "      <td>3693.0</td>\n",
       "      <td>3694.0</td>\n",
       "      <td>5184.0</td>\n",
       "      <td>287231490.0</td>\n",
       "      <td>704034</td>\n",
       "    </tr>\n",
       "    <tr>\n",
       "      <th>2</th>\n",
       "      <td>SC</td>\n",
       "      <td>ag1906</td>\n",
       "      <td>2019-01-02 09:03:00</td>\n",
       "      <td>3693.0</td>\n",
       "      <td>3694.0</td>\n",
       "      <td>3688.0</td>\n",
       "      <td>3690.0</td>\n",
       "      <td>5782.0</td>\n",
       "      <td>320071080.0</td>\n",
       "      <td>703846</td>\n",
       "    </tr>\n",
       "    <tr>\n",
       "      <th>3</th>\n",
       "      <td>SC</td>\n",
       "      <td>ag1906</td>\n",
       "      <td>2019-01-02 09:04:00</td>\n",
       "      <td>3690.0</td>\n",
       "      <td>3692.0</td>\n",
       "      <td>3689.0</td>\n",
       "      <td>3692.0</td>\n",
       "      <td>3100.0</td>\n",
       "      <td>171616620.0</td>\n",
       "      <td>703254</td>\n",
       "    </tr>\n",
       "    <tr>\n",
       "      <th>4</th>\n",
       "      <td>SC</td>\n",
       "      <td>ag1906</td>\n",
       "      <td>2019-01-02 09:05:00</td>\n",
       "      <td>3691.0</td>\n",
       "      <td>3693.0</td>\n",
       "      <td>3691.0</td>\n",
       "      <td>3692.0</td>\n",
       "      <td>2184.0</td>\n",
       "      <td>120945390.0</td>\n",
       "      <td>702870</td>\n",
       "    </tr>\n",
       "    <tr>\n",
       "      <th>...</th>\n",
       "      <td>...</td>\n",
       "      <td>...</td>\n",
       "      <td>...</td>\n",
       "      <td>...</td>\n",
       "      <td>...</td>\n",
       "      <td>...</td>\n",
       "      <td>...</td>\n",
       "      <td>...</td>\n",
       "      <td>...</td>\n",
       "      <td>...</td>\n",
       "    </tr>\n",
       "    <tr>\n",
       "      <th>133105</th>\n",
       "      <td>SC</td>\n",
       "      <td>ag2002</td>\n",
       "      <td>2019-12-31 14:56:00</td>\n",
       "      <td>4385.0</td>\n",
       "      <td>4386.0</td>\n",
       "      <td>4384.0</td>\n",
       "      <td>4385.0</td>\n",
       "      <td>4026.0</td>\n",
       "      <td>264795480.0</td>\n",
       "      <td>392150</td>\n",
       "    </tr>\n",
       "    <tr>\n",
       "      <th>133106</th>\n",
       "      <td>SC</td>\n",
       "      <td>ag2002</td>\n",
       "      <td>2019-12-31 14:57:00</td>\n",
       "      <td>4385.0</td>\n",
       "      <td>4386.0</td>\n",
       "      <td>4383.0</td>\n",
       "      <td>4384.0</td>\n",
       "      <td>4526.0</td>\n",
       "      <td>297656190.0</td>\n",
       "      <td>391580</td>\n",
       "    </tr>\n",
       "    <tr>\n",
       "      <th>133107</th>\n",
       "      <td>SC</td>\n",
       "      <td>ag2002</td>\n",
       "      <td>2019-12-31 14:58:00</td>\n",
       "      <td>4384.0</td>\n",
       "      <td>4387.0</td>\n",
       "      <td>4383.0</td>\n",
       "      <td>4387.0</td>\n",
       "      <td>5064.0</td>\n",
       "      <td>333129450.0</td>\n",
       "      <td>390390</td>\n",
       "    </tr>\n",
       "    <tr>\n",
       "      <th>133108</th>\n",
       "      <td>SC</td>\n",
       "      <td>ag2002</td>\n",
       "      <td>2019-12-31 14:59:00</td>\n",
       "      <td>4388.0</td>\n",
       "      <td>4388.0</td>\n",
       "      <td>4386.0</td>\n",
       "      <td>4386.0</td>\n",
       "      <td>3570.0</td>\n",
       "      <td>234917340.0</td>\n",
       "      <td>389040</td>\n",
       "    </tr>\n",
       "    <tr>\n",
       "      <th>133109</th>\n",
       "      <td>SC</td>\n",
       "      <td>ag2002</td>\n",
       "      <td>2019-12-31 15:00:00</td>\n",
       "      <td>4386.0</td>\n",
       "      <td>4387.0</td>\n",
       "      <td>4384.0</td>\n",
       "      <td>4384.0</td>\n",
       "      <td>4630.0</td>\n",
       "      <td>304563390.0</td>\n",
       "      <td>387026</td>\n",
       "    </tr>\n",
       "  </tbody>\n",
       "</table>\n",
       "<p>133110 rows × 10 columns</p>\n",
       "</div>"
      ],
      "text/plain": [
       "       type    code                time    open    high     low   close  \\\n",
       "0        SC  ag1906 2019-01-02 09:01:00  3700.0  3700.0  3689.0  3693.0   \n",
       "1        SC  ag1906 2019-01-02 09:02:00  3693.0  3695.0  3693.0  3694.0   \n",
       "2        SC  ag1906 2019-01-02 09:03:00  3693.0  3694.0  3688.0  3690.0   \n",
       "3        SC  ag1906 2019-01-02 09:04:00  3690.0  3692.0  3689.0  3692.0   \n",
       "4        SC  ag1906 2019-01-02 09:05:00  3691.0  3693.0  3691.0  3692.0   \n",
       "...     ...     ...                 ...     ...     ...     ...     ...   \n",
       "133105   SC  ag2002 2019-12-31 14:56:00  4385.0  4386.0  4384.0  4385.0   \n",
       "133106   SC  ag2002 2019-12-31 14:57:00  4385.0  4386.0  4383.0  4384.0   \n",
       "133107   SC  ag2002 2019-12-31 14:58:00  4384.0  4387.0  4383.0  4387.0   \n",
       "133108   SC  ag2002 2019-12-31 14:59:00  4388.0  4388.0  4386.0  4386.0   \n",
       "133109   SC  ag2002 2019-12-31 15:00:00  4386.0  4387.0  4384.0  4384.0   \n",
       "\n",
       "         volume     turnover  open interest  \n",
       "0       16680.0  924595320.0         704740  \n",
       "1        5184.0  287231490.0         704034  \n",
       "2        5782.0  320071080.0         703846  \n",
       "3        3100.0  171616620.0         703254  \n",
       "4        2184.0  120945390.0         702870  \n",
       "...         ...          ...            ...  \n",
       "133105   4026.0  264795480.0         392150  \n",
       "133106   4526.0  297656190.0         391580  \n",
       "133107   5064.0  333129450.0         390390  \n",
       "133108   3570.0  234917340.0         389040  \n",
       "133109   4630.0  304563390.0         387026  \n",
       "\n",
       "[133110 rows x 10 columns]"
      ]
     },
     "execution_count": 3,
     "metadata": {},
     "output_type": "execute_result"
    }
   ],
   "source": [
    "df = pd.read_csv(filename_2019[0], index_col=0, encoding='gbk')\n",
    "df.columns = ['code', 'time', 'open', 'high', 'low', 'close', 'volume', 'turnover', 'open interest']\n",
    "df.rename_axis(\"type\", axis='index', inplace=True)\n",
    "df['time'] = pd.to_datetime(df['time'])\n",
    "\n",
    "df.reset_index(inplace=True)\n",
    "df"
   ]
  },
  {
   "cell_type": "code",
   "execution_count": 4,
   "metadata": {},
   "outputs": [
    {
     "data": {
      "image/png": "[encoded data removed]",
      "text/plain": [
       "<Figure size 864x288 with 1 Axes>"
      ]
     },
     "metadata": {},
     "output_type": "display_data"
    }
   ],
   "source": [
    "df[['close']].plot(grid=False, figsize=(12,4))\n",
    "sns.despine()"
   ]
  },
  {
   "cell_type": "code",
   "execution_count": 5,
   "metadata": {},
   "outputs": [],
   "source": [
    "df['one_minute_return'] = df['close'].shift(-1) - df['close']\n",
    "df['five_minute_return'] = df['close'].shift(-5) - df['close']\n",
    "df['fifteen_minute_return'] = df['close'].shift(-15) - df['close']\n",
    "df['thirty_minute_return'] = df['close'].shift(-30) - df['close']\n",
    "df['hour_return'] = df['close'].shift(-60) - df['close']"
   ]
  },
  {
   "cell_type": "code",
   "execution_count": 6,
   "metadata": {},
   "outputs": [],
   "source": [
    "times = ['one_minute_return','five_minute_return', 'fifteen_minute_return', 'thirty_minute_return', 'hour_return']"
   ]
  },
  {
   "cell_type": "code",
   "execution_count": 7,
   "metadata": {},
   "outputs": [],
   "source": [
    "# Drop NaN\n",
    "df.drop(df.tail(60).index,inplace=True) "
   ]
  },
  {
   "cell_type": "code",
   "execution_count": 8,
   "metadata": {},
   "outputs": [
    {
     "data": {
      "text/plain": [
       "0         1.0\n",
       "1        -4.0\n",
       "2         2.0\n",
       "3         0.0\n",
       "4         3.0\n",
       "         ... \n",
       "133045    0.0\n",
       "133046    1.0\n",
       "133047    1.0\n",
       "133048    1.0\n",
       "133049    2.0\n",
       "Name: one_minute_return, Length: 133050, dtype: float64"
      ]
     },
     "execution_count": 8,
     "metadata": {},
     "output_type": "execute_result"
    }
   ],
   "source": [
    "df['one_minute_return']"
   ]
  },
  {
   "cell_type": "code",
   "execution_count": 9,
   "metadata": {},
   "outputs": [],
   "source": [
    "short_period = [2, 4, 8, 16, 32, 64]\n",
    "long_period = [8, 16, 32, 64, 128, 256]\n",
    "\n",
    "df['short_ewm'] = df['close'].ewm(span=short_period[2]).mean()\n",
    "df['long_ewm'] = df['close'].ewm(span=long_period[2]).mean()"
   ]
  },
  {
   "cell_type": "code",
   "execution_count": 10,
   "metadata": {},
   "outputs": [],
   "source": [
    "def calculate_hull_moving_average(df, period):\n",
    "\n",
    "    df['window_t_ewm'] = df['close'].ewm(span=period).mean()\n",
    "    df['window_half_ewm'] = df['close'].ewm(span=period/2).mean()\n",
    "    df['diff']=df['window_half_ewm'] * 2 - df['window_t_ewm']\n",
    "    \n",
    "    df[f'hma{period}']=df['diff'].ewm(span=int(math.sqrt(period))).mean()\n",
    "    \n",
    "    irrelevant_col = ['window_t_ewm', 'window_half_ewm', 'diff']\n",
    "    df.drop(columns=irrelevant_col, inplace = True)\n",
    "    \n",
    "calculate_hull_moving_average(df, short_period[2])\n",
    "calculate_hull_moving_average(df, long_period[2])"
   ]
  },
  {
   "cell_type": "code",
   "execution_count": 11,
   "metadata": {},
   "outputs": [
    {
     "data": {
      "image/png": "[encoded data removed]",
      "text/plain": [
       "<Figure size 864x288 with 1 Axes>"
      ]
     },
     "metadata": {},
     "output_type": "display_data"
    }
   ],
   "source": [
    "df['short_long_diff'] = df[f'hma{short_period[2]}'] - df[f'hma{long_period[2]}']\n",
    "\n",
    "short_long_diff_std = df['short_long_diff'].std()\n",
    "\n",
    "df['momentum'] = df['short_long_diff'] / short_long_diff_std\n",
    "\n",
    "df['momentum'].plot(grid=False, figsize=(12,4))\n",
    "sns.despine()"
   ]
  },
  {
   "cell_type": "code",
   "execution_count": 12,
   "metadata": {},
   "outputs": [
    {
     "name": "stdout",
     "output_type": "stream",
     "text": [
      "                            OLS Regression Results                            \n",
      "==============================================================================\n",
      "Dep. Variable:      one_minute_return   R-squared:                       0.001\n",
      "Model:                            OLS   Adj. R-squared:                  0.001\n",
      "Method:                 Least Squares   F-statistic:                     71.02\n",
      "Date:                Tue, 13 Apr 2021   Prob (F-statistic):           3.56e-17\n",
      "Time:                        00:15:38   Log-Likelihood:            -2.8077e+05\n",
      "No. Observations:              133050   AIC:                         5.615e+05\n",
      "Df Residuals:                  133048   BIC:                         5.616e+05\n",
      "Df Model:                           1                                         \n",
      "Covariance Type:            nonrobust                                         \n",
      "==============================================================================\n",
      "                 coef    std err          t      P>|t|      [0.025      0.975]\n",
      "------------------------------------------------------------------------------\n",
      "const          0.0054      0.005      0.982      0.326      -0.005       0.016\n",
      "momentum      -0.0461      0.005     -8.428      0.000      -0.057      -0.035\n",
      "==============================================================================\n",
      "Omnibus:                    67926.517   Durbin-Watson:                   2.145\n",
      "Prob(Omnibus):                  0.000   Jarque-Bera (JB):        138513506.133\n",
      "Skew:                           0.819   Prob(JB):                         0.00\n",
      "Kurtosis:                     161.060   Cond. No.                         1.00\n",
      "==============================================================================\n",
      "\n",
      "Notes:\n",
      "[1] Standard Errors assume that the covariance matrix of the errors is correctly specified.\n",
      "Parameters:  -0.04612436678815921\n",
      "P Values:  const       3.259745e-01\n",
      "momentum    3.564899e-17\n",
      "dtype: float64\n"
     ]
    }
   ],
   "source": [
    "X2 = sm.add_constant(df['momentum'])\n",
    "est = sm.OLS(df['one_minute_return'], X2, missing='drop')\n",
    "results = est.fit()\n",
    "print(results.summary())\n",
    "print(\"Parameters: \", results.params['momentum'])\n",
    "print(\"P Values: \", results.pvalues)"
   ]
  },
  {
   "cell_type": "code",
   "execution_count": 13,
   "metadata": {},
   "outputs": [],
   "source": [
    "threshold = [0, 0.1, 0.25, 0.5, 0.75, 1, 2]"
   ]
  },
  {
   "cell_type": "code",
   "execution_count": 14,
   "metadata": {},
   "outputs": [],
   "source": [
    "def calculate_future_return(data):\n",
    "    data['one_minute_return'] = data['close'].shift(-1) - data['close']\n",
    "    data['five_minute_return'] = data['close'].shift(-5) - data['close']\n",
    "    data['fifteen_minute_return'] = data['close'].shift(-15) - data['close']\n",
    "    data['thirty_minute_return'] = data['close'].shift(-30) - data['close']\n",
    "    data['hour_return'] = data['close'].shift(-60) - data['close']\n",
    "    # Drop NaN\n",
    "    df.drop(df.tail(60).index,inplace=True) "
   ]
  },
  {
   "cell_type": "code",
   "execution_count": 15,
   "metadata": {},
   "outputs": [],
   "source": [
    "def calculate_momentum(data, short_period, long_period, hma=True):\n",
    "    if (hma):\n",
    "        calculate_hull_moving_average(data, short_period)\n",
    "        calculate_hull_moving_average(data, long_period)\n",
    "        data['short_long_diff'] = data[f'hma{short_period}'] - data[f'hma{long_period}']\n",
    "        short_long_diff_std = data['short_long_diff'].std()\n",
    "        data['momentum'] = data['short_long_diff'] / short_long_diff_std\n",
    "        \n",
    "        used_col = ['short_long_diff', f'hma{short_period}', f'hma{long_period}']\n",
    "        data.drop(columns=used_col, inplace = True)\n",
    "        \n",
    "    else:\n",
    "        data['short_ewm'] = data['close'].ewm(span=short_period).mean()\n",
    "        data['long_ewm'] = data['close'].ewm(span=long_period).mean()\n",
    "        data['short_long_diff'] = data['short_ewm'] - data['long_ewm']\n",
    "        short_long_diff_std = data['short_long_diff'].std()\n",
    "        data['momentum'] = data['short_long_diff'] / short_long_diff_std\n",
    "        \n",
    "        used_col = ['short_long_diff', data['short_ewm'], data['short_ewm']]\n",
    "        data.drop(columns=used_col, inplace = True)"
   ]
  },
  {
   "cell_type": "code",
   "execution_count": 16,
   "metadata": {},
   "outputs": [],
   "source": [
    "def linear_regression_parameters_of_momentum(data, time = 'one_minute_return'):\n",
    "    X2 = sm.add_constant(data['momentum'])\n",
    "    est = sm.OLS(data[time], X2, missing='drop')\n",
    "    results = est.fit()\n",
    "    # print(results.summary())\n",
    "    parameter = results.params['momentum']\n",
    "    r_square = results.rsquared\n",
    "    \n",
    "    return parameter, r_square"
   ]
  },
  {
   "cell_type": "markdown",
   "metadata": {},
   "source": [
    "沪银主力（AGM），表格Index为均线Window长度（short-long），Column为Return Time Window"
   ]
  },
  {
   "cell_type": "code",
   "execution_count": 17,
   "metadata": {},
   "outputs": [],
   "source": [
    "# print(filename_2019[1])\n",
    "# data = pd.read_csv(filename_2019[1], index_col=0, encoding='gbk')\n",
    "data = pd.read_csv('../data/2019/agm.csv', index_col=0, encoding='gbk')\n",
    "\n",
    "data.columns = ['code', 'time', 'open', 'high', 'low', 'close', 'volume', 'turnover', 'open interest']\n",
    "data.rename_axis(\"type\", axis='index', inplace=True)\n",
    "data['time'] = pd.to_datetime(data['time'])\n",
    "\n",
    "data.reset_index(inplace=True)\n",
    "calculate_future_return(data)"
   ]
  },
  {
   "cell_type": "code",
   "execution_count": 18,
   "metadata": {},
   "outputs": [],
   "source": [
    "parameters = []\n",
    "r_squares = []\n",
    "for i in range(len(short_period)):\n",
    "    calculate_momentum(data, short_period[i], long_period[i])\n",
    "    current_window_parameter = []\n",
    "    current_window_r_square = []\n",
    "    for j in range(len(times)):\n",
    "        parameter, r_square = linear_regression_parameters_of_momentum(data, times[j])\n",
    "        current_window_parameter.append(parameter)\n",
    "        current_window_r_square.append(r_square)\n",
    "    parameters.append(current_window_parameter)\n",
    "    r_squares.append(current_window_r_square)"
   ]
  },
  {
   "cell_type": "code",
   "execution_count": 19,
   "metadata": {},
   "outputs": [
    {
     "name": "stdout",
     "output_type": "stream",
     "text": [
      "Regression Parameter\n"
     ]
    },
    {
     "data": {
      "text/html": [
       "<div>\n",
       "<style scoped>\n",
       "    .dataframe tbody tr th:only-of-type {\n",
       "        vertical-align: middle;\n",
       "    }\n",
       "\n",
       "    .dataframe tbody tr th {\n",
       "        vertical-align: top;\n",
       "    }\n",
       "\n",
       "    .dataframe thead th {\n",
       "        text-align: right;\n",
       "    }\n",
       "</style>\n",
       "<table border=\"1\" class=\"dataframe\">\n",
       "  <thead>\n",
       "    <tr style=\"text-align: right;\">\n",
       "      <th></th>\n",
       "      <th>one_minute_return</th>\n",
       "      <th>five_minute_return</th>\n",
       "      <th>fifteen_minute_return</th>\n",
       "      <th>thirty_minute_return</th>\n",
       "      <th>hour_return</th>\n",
       "    </tr>\n",
       "  </thead>\n",
       "  <tbody>\n",
       "    <tr>\n",
       "      <th>2-8</th>\n",
       "      <td>-0.146502</td>\n",
       "      <td>-0.198486</td>\n",
       "      <td>-0.174845</td>\n",
       "      <td>-0.138212</td>\n",
       "      <td>-0.117708</td>\n",
       "    </tr>\n",
       "    <tr>\n",
       "      <th>4-16</th>\n",
       "      <td>-0.087612</td>\n",
       "      <td>-0.158230</td>\n",
       "      <td>-0.022421</td>\n",
       "      <td>-0.013569</td>\n",
       "      <td>0.086422</td>\n",
       "    </tr>\n",
       "    <tr>\n",
       "      <th>8-32</th>\n",
       "      <td>-0.046150</td>\n",
       "      <td>-0.061072</td>\n",
       "      <td>0.156977</td>\n",
       "      <td>0.231215</td>\n",
       "      <td>0.312633</td>\n",
       "    </tr>\n",
       "    <tr>\n",
       "      <th>16-64</th>\n",
       "      <td>0.002276</td>\n",
       "      <td>0.077015</td>\n",
       "      <td>0.313075</td>\n",
       "      <td>0.454587</td>\n",
       "      <td>0.385801</td>\n",
       "    </tr>\n",
       "    <tr>\n",
       "      <th>32-128</th>\n",
       "      <td>0.016440</td>\n",
       "      <td>0.100891</td>\n",
       "      <td>0.263423</td>\n",
       "      <td>0.330722</td>\n",
       "      <td>0.152290</td>\n",
       "    </tr>\n",
       "    <tr>\n",
       "      <th>64-256</th>\n",
       "      <td>0.009825</td>\n",
       "      <td>0.048245</td>\n",
       "      <td>0.088226</td>\n",
       "      <td>0.039146</td>\n",
       "      <td>-0.171415</td>\n",
       "    </tr>\n",
       "  </tbody>\n",
       "</table>\n",
       "</div>"
      ],
      "text/plain": [
       "        one_minute_return  five_minute_return  fifteen_minute_return  \\\n",
       "2-8             -0.146502           -0.198486              -0.174845   \n",
       "4-16            -0.087612           -0.158230              -0.022421   \n",
       "8-32            -0.046150           -0.061072               0.156977   \n",
       "16-64            0.002276            0.077015               0.313075   \n",
       "32-128           0.016440            0.100891               0.263423   \n",
       "64-256           0.009825            0.048245               0.088226   \n",
       "\n",
       "        thirty_minute_return  hour_return  \n",
       "2-8                -0.138212    -0.117708  \n",
       "4-16               -0.013569     0.086422  \n",
       "8-32                0.231215     0.312633  \n",
       "16-64               0.454587     0.385801  \n",
       "32-128              0.330722     0.152290  \n",
       "64-256              0.039146    -0.171415  "
      ]
     },
     "execution_count": 19,
     "metadata": {},
     "output_type": "execute_result"
    }
   ],
   "source": [
    "# parameters\n",
    "window_index = ['2-8','4-16','8-32','16-64', '32-128', '64-256']\n",
    "parameters_df = pd.DataFrame.from_records(parameters, index = window_index)\n",
    "parameters_df.columns = times\n",
    "print('Regression Parameter')\n",
    "parameters_df"
   ]
  },
  {
   "cell_type": "code",
   "execution_count": 20,
   "metadata": {},
   "outputs": [
    {
     "name": "stdout",
     "output_type": "stream",
     "text": [
      "Max parameter ma window: 16-64 \n",
      "Max parameter return window: thirty_minute_return\n"
     ]
    }
   ],
   "source": [
    "maxp_return_window = parameters_df.max().idxmax()\n",
    "maxp_ma_window = parameters_df.idxmax()[maxp_return_window]\n",
    "print(\"Max parameter ma window:\", maxp_ma_window, \"\\nMax parameter return window:\", maxp_return_window)"
   ]
  },
  {
   "cell_type": "code",
   "execution_count": 21,
   "metadata": {},
   "outputs": [],
   "source": [
    "# r_squares\n",
    "r_squares_df = pd.DataFrame.from_records(r_squares, index = ['2-8','4-16','8-32','16-64', '32-128', '64-256'])\n",
    "r_squares_df.columns = times\n",
    "# print('R-Squared')\n",
    "# r_squares_df"
   ]
  },
  {
   "cell_type": "code",
   "execution_count": 22,
   "metadata": {},
   "outputs": [],
   "source": [
    "window_index_to_window = {'2-8':[2, 8],\n",
    "                          '4-16':[4, 16],\n",
    "                          '8-32':[8, 32],\n",
    "                          '16-64':[16, 64],\n",
    "                          '32-128':[32, 128],\n",
    "                          '64-256':[64, 256]}"
   ]
  },
  {
   "cell_type": "code",
   "execution_count": 23,
   "metadata": {},
   "outputs": [
    {
     "name": "stdout",
     "output_type": "stream",
     "text": [
      "0.4545869388420349 0.0019912496554473913\n"
     ]
    }
   ],
   "source": [
    "# Residule plot for 16-64 with thirty minute return\n",
    "short_ma_period = window_index_to_window[maxp_ma_window][0]\n",
    "long_ma_period = window_index_to_window[maxp_ma_window][1]\n",
    "calculate_momentum(data, short_ma_period, long_ma_period)\n",
    "X2 = sm.add_constant(data['momentum'])\n",
    "est = sm.OLS(data[maxp_return_window], X2, missing='drop')\n",
    "\n",
    "results = est.fit()\n",
    "\n",
    "parameter = results.params['momentum']\n",
    "r_square = results.rsquared\n",
    "print(parameter, r_square)"
   ]
  },
  {
   "cell_type": "code",
   "execution_count": 24,
   "metadata": {},
   "outputs": [
    {
     "name": "stdout",
     "output_type": "stream",
     "text": [
      "Residule plot for 16-64 momentum predicting thirty_minute_return\n"
     ]
    },
    {
     "data": {
      "image/png": "[encoded data removed]",
      "text/plain": [
       "<Figure size 864x576 with 4 Axes>"
      ]
     },
     "metadata": {},
     "output_type": "display_data"
    }
   ],
   "source": [
    "#define figure size\n",
    "print(\"Residule plot for {ma_window} momentum predicting {return_window}\".format(ma_window = maxp_ma_window, return_window = maxp_return_window))\n",
    "fig = plt.figure(figsize=(12,8))\n",
    "\n",
    "#produce regression plots\n",
    "fig = sm.graphics.plot_regress_exog(results, 'momentum', fig=fig)"
   ]
  },
  {
   "cell_type": "markdown",
   "metadata": {},
   "source": [
    "Reference: https://towardsdatascience.com/heteroscedasticity-is-nothing-to-be-afraid-of-730dd3f7ca1f"
   ]
  },
  {
   "cell_type": "code",
   "execution_count": 25,
   "metadata": {},
   "outputs": [],
   "source": [
    "expr = maxp_return_window + ' ~ momentum'\n",
    "y, X = dmatrices(expr, data, return_type='dataframe')"
   ]
  },
  {
   "cell_type": "code",
   "execution_count": 26,
   "metadata": {},
   "outputs": [
    {
     "data": {
      "text/plain": [
       "[('Lagrange Multiplier statistic:', 2991.20287713067),\n",
       " (\"LM test's p-value:\", 0.0),\n",
       " ('F-statistic:', 1529.9561302882537),\n",
       " (\"F-test's p-value:\", 0.0)]"
      ]
     },
     "execution_count": 26,
     "metadata": {},
     "output_type": "execute_result"
    }
   ],
   "source": [
    "keys = ['Lagrange Multiplier statistic:', 'LM test\\'s p-value:', 'F-statistic:', 'F-test\\'s p-value:']\n",
    "results = het_white(results.resid, X)\n",
    "lzip(keys, results)"
   ]
  },
  {
   "cell_type": "code",
   "execution_count": 27,
   "metadata": {},
   "outputs": [
    {
     "name": "stdout",
     "output_type": "stream",
     "text": [
      "../data/2019/agm.csv\n",
      "Max ma window: 16-64 \n",
      "Max return window: thirty_minute_return\n",
      "[('Lagrange Multiplier statistic:', 2991.20287713067), (\"LM test's p-value:\", 0.0), ('F-statistic:', 1529.9561302882537), (\"F-test's p-value:\", 0.0)]\n",
      "../data/2019/alm.csv\n",
      "Max ma window: 64-256 \n",
      "Max return window: one_minute_return\n",
      "[('Lagrange Multiplier statistic:', 1334.1773789477513), (\"LM test's p-value:\", 1.9367038746550883e-290), ('F-statistic:', 675.1311362183706), (\"F-test's p-value:\", 3.560936761169545e-292)]\n",
      "../data/2019/bum.csv\n",
      "Max ma window: 32-128 \n",
      "Max return window: hour_return\n",
      "[('Lagrange Multiplier statistic:', 11.834645193486006), (\"LM test's p-value:\", 0.0026923991736614084), ('F-statistic:', 5.917950190947399), (\"F-test's p-value:\", 0.0026918412707350545)]\n",
      "../data/2019/cfm.csv\n",
      "Max ma window: 64-256 \n",
      "Max return window: hour_return\n",
      "[('Lagrange Multiplier statistic:', 7.521979807882939), (\"LM test's p-value:\", 0.02326070311274725), ('F-statistic:', 3.761178887739717), (\"F-test's p-value:\", 0.023259963331438243)]\n",
      "../data/2019/cum.csv\n",
      "Max ma window: 64-256 \n",
      "Max return window: hour_return\n",
      "[('Lagrange Multiplier statistic:', 30.29944683557198), (\"LM test's p-value:\", 2.6336539937561093e-07), ('F-statistic:', 15.153425352783257), (\"F-test's p-value:\", 2.6293188054756527e-07)]\n",
      "../data/2019/ebm.csv\n",
      "Max ma window: 64-256 \n",
      "Max return window: one_minute_return\n",
      "[('Lagrange Multiplier statistic:', 21.378914620796387), (\"LM test's p-value:\", 2.2783879526193695e-05), ('F-statistic:', 10.698568054018775), (\"F-test's p-value:\", 2.269722034223253e-05)]\n",
      "../data/2019/egm.csv\n",
      "Max ma window: 64-256 \n",
      "Max return window: hour_return\n",
      "[('Lagrange Multiplier statistic:', 150.59676277925325), (\"LM test's p-value:\", 1.9875976117626088e-33), ('F-statistic:', 75.44377495452873), (\"F-test's p-value:\", 1.851050400897378e-33)]\n",
      "../data/2019/hcm.csv\n",
      "Max ma window: 64-256 \n",
      "Max return window: one_minute_return\n",
      "[('Lagrange Multiplier statistic:', 11.482189779233456), (\"LM test's p-value:\", 0.00321125038510421), ('F-statistic:', 5.741679498534549), (\"F-test's p-value:\", 0.0032106437807184443)]\n",
      "../data/2019/im.csv\n",
      "Max ma window: 16-64 \n",
      "Max return window: hour_return\n",
      "[('Lagrange Multiplier statistic:', 13.558805734367672), (\"LM test's p-value:\", 0.0011369536079694714), ('F-statistic:', 6.780245246517391), (\"F-test's p-value:\", 0.0011366108564143079)]\n",
      "../data/2019/jm.csv\n",
      "Max ma window: 64-256 \n",
      "Max return window: hour_return\n",
      "[('Lagrange Multiplier statistic:', 326.0727067901281), (\"LM test's p-value:\", 1.5639086109402331e-71), ('F-statistic:', 163.65849079974603), (\"F-test's p-value:\", 1.1495829485195867e-71)]\n",
      "../data/2019/jmm.csv\n",
      "Max ma window: 64-256 \n",
      "Max return window: one_minute_return\n",
      "[('Lagrange Multiplier statistic:', 7.259630469930985), (\"LM test's p-value:\", 0.02652108412525569), ('F-statistic:', 3.629997173928182), (\"F-test's p-value:\", 0.026520370665524304)]\n",
      "../data/2019/lm.csv\n",
      "Max ma window: 32-128 \n",
      "Max return window: thirty_minute_return\n",
      "[('Lagrange Multiplier statistic:', 231.00175471851847), (\"LM test's p-value:\", 6.896143783621007e-51), ('F-statistic:', 115.84575357967299), (\"F-test's p-value:\", 5.818033029092879e-51)]\n",
      "../data/2019/mam.csv\n",
      "Max ma window: 64-256 \n",
      "Max return window: hour_return\n",
      "[('Lagrange Multiplier statistic:', 7.867939251195999), (\"LM test's p-value:\", 0.019565849094850526), ('F-statistic:', 3.9341824255909654), (\"F-test's p-value:\", 0.019565050259444137)]\n",
      "../data/2019/nim.csv\n",
      "Max ma window: 16-64 \n",
      "Max return window: hour_return\n",
      "[('Lagrange Multiplier statistic:', 197.3923361969658), (\"LM test's p-value:\", 1.3702468420117253e-43), ('F-statistic:', 98.8681567152605), (\"F-test's p-value:\", 1.259069342278346e-43)]\n",
      "../data/2019/oim.csv\n",
      "Max ma window: 16-64 \n",
      "Max return window: thirty_minute_return\n",
      "[('Lagrange Multiplier statistic:', 186.96593725307298), (\"LM test's p-value:\", 2.516880369999671e-41), ('F-statistic:', 93.67445176837555), (\"F-test's p-value:\", 2.290806895249485e-41)]\n",
      "../data/2019/pbm.csv\n",
      "Max ma window: 64-256 \n",
      "Max return window: one_minute_return\n",
      "[('Lagrange Multiplier statistic:', 235.91865655307924), (\"LM test's p-value:\", 5.900850889961774e-52), ('F-statistic:', 118.20570907382638), (\"F-test's p-value:\", 5.225640658755108e-52)]\n",
      "../data/2019/ppm.csv\n",
      "Max ma window: 64-256 \n",
      "Max return window: hour_return\n",
      "[('Lagrange Multiplier statistic:', 2.5822359251356666), (\"LM test's p-value:\", 0.2749632126164124), ('F-statistic:', 1.2911109198600577), (\"F-test's p-value:\", 0.2749711338344774)]\n",
      "../data/2019/rbm.csv\n",
      "Max ma window: 16-64 \n",
      "Max return window: hour_return\n",
      "[('Lagrange Multiplier statistic:', 15.345402161407367), (\"LM test's p-value:\", 0.0004653591519557389), ('F-statistic:', 7.673838279493594), (\"F-test's p-value:\", 0.0004651589004463376)]\n",
      "../data/2019/rum.csv\n",
      "Max ma window: 16-64 \n",
      "Max return window: fifteen_minute_return\n",
      "[('Lagrange Multiplier statistic:', 0.3741973731242032), (\"LM test's p-value:\", 0.8293618854734623), ('F-statistic:', 0.18709278947199814), (\"F-test's p-value:\", 0.8293671247853034)]\n",
      "../data/2019/smm.csv\n",
      "Max ma window: 32-128 \n",
      "Max return window: hour_return\n",
      "[('Lagrange Multiplier statistic:', 31.00283580736976), (\"LM test's p-value:\", 1.8527624605714208e-07), ('F-statistic:', 15.50933350540473), (\"F-test's p-value:\", 1.8462278168159735e-07)]\n",
      "../data/2019/snm.csv\n",
      "Max ma window: 64-256 \n",
      "Max return window: hour_return\n",
      "[('Lagrange Multiplier statistic:', 416.8758284645283), (\"LM test's p-value:\", 2.996153292880477e-91), ('F-statistic:', 209.2127727038837), (\"F-test's p-value:\", 2.04047773522405e-91)]\n",
      "../data/2019/srm.csv\n",
      "Max ma window: 16-64 \n",
      "Max return window: thirty_minute_return\n",
      "[('Lagrange Multiplier statistic:', 70.0844077423246), (\"LM test's p-value:\", 6.044553488515972e-16), ('F-statistic:', 35.068344065747596), (\"F-test's p-value:\", 5.969571216152069e-16)]\n",
      "../data/2019/tam.csv\n",
      "Max ma window: 64-256 \n",
      "Max return window: hour_return\n",
      "[('Lagrange Multiplier statistic:', 237.9024877068503), (\"LM test's p-value:\", 2.188422538573899e-52), ('F-statistic:', 119.26253273672182), (\"F-test's p-value:\", 1.8769687967486955e-52)]\n",
      "../data/2019/vm.csv\n",
      "Max ma window: 32-128 \n",
      "Max return window: thirty_minute_return\n",
      "[('Lagrange Multiplier statistic:', 50.886311231473854), (\"LM test's p-value:\", 8.916161244357913e-12), ('F-statistic:', 25.459073997981935), (\"F-test's p-value:\", 8.849902852968878e-12)]\n",
      "../data/2019/znm.csv\n",
      "Max ma window: 64-256 \n",
      "Max return window: hour_return\n",
      "[('Lagrange Multiplier statistic:', 511.60489722512693), (\"LM test's p-value:\", 8.061356178866845e-112), ('F-statistic:', 256.97203019423296), (\"F-test's p-value:\", 4.511475744949414e-112)]\n"
     ]
    }
   ],
   "source": [
    "for filename in filename_2019:\n",
    "    print(filename)\n",
    "    data = pd.read_csv(filename, index_col=0, encoding='gbk')\n",
    "\n",
    "    data.columns = ['code', 'time', 'open', 'high', 'low', 'close', 'volume', 'turnover', 'open interest']\n",
    "    data.rename_axis(\"type\", axis='index', inplace=True)\n",
    "    data['time'] = pd.to_datetime(data['time'])\n",
    "\n",
    "    data.reset_index(inplace=True)\n",
    "    calculate_future_return(data)\n",
    "    \n",
    "    parameters = []\n",
    "    r_squares = []\n",
    "    for i in range(len(short_period)):\n",
    "        calculate_momentum(data, short_period[i], long_period[i])\n",
    "        current_window_parameter = []\n",
    "        current_window_r_square = []\n",
    "        for j in range(len(times)):\n",
    "            parameter, r_square = linear_regression_parameters_of_momentum(data, times[j])\n",
    "            current_window_parameter.append(parameter)\n",
    "            current_window_r_square.append(r_square)\n",
    "        parameters.append(current_window_parameter)\n",
    "        r_squares.append(current_window_r_square)\n",
    "    \n",
    "    # parameters\n",
    "    window_index = ['2-8','4-16','8-32','16-64', '32-128', '64-256']\n",
    "    parameters_df = pd.DataFrame.from_records(parameters, index = window_index)\n",
    "    parameters_df.columns = times\n",
    "    \n",
    "    max_return_window = parameters_df.max().idxmax()\n",
    "    max_ma_window = parameters_df.idxmax()[max_return_window]\n",
    "    print(\"Max ma window:\", max_ma_window, \"\\nMax return window:\", max_return_window)\n",
    "    \n",
    "    # Residule plot for 16-64 with thirty minute return\n",
    "    short_ma_period = window_index_to_window[maxp_ma_window][0]\n",
    "    long_ma_period = window_index_to_window[maxp_ma_window][1]\n",
    "    calculate_momentum(data, short_ma_period, long_ma_period)\n",
    "    X2 = sm.add_constant(data['momentum'])\n",
    "    est = sm.OLS(data[maxp_return_window], X2, missing='drop')\n",
    "\n",
    "    results = est.fit()\n",
    "\n",
    "    parameter = results.params['momentum']\n",
    "    r_square = results.rsquared\n",
    "    # print(parameter, r_square)\n",
    "    \n",
    "    expr = maxp_return_window + ' ~ momentum'\n",
    "    y, X = dmatrices(expr, data, return_type='dataframe')\n",
    "    \n",
    "    keys = ['Lagrange Multiplier statistic:', 'LM test\\'s p-value:', 'F-statistic:', 'F-test\\'s p-value:']\n",
    "    results = het_white(results.resid, X)\n",
    "    print(lzip(keys, results))"
   ]
  },
  {
   "cell_type": "code",
   "execution_count": null,
   "metadata": {},
   "outputs": [],
   "source": []
  }
 ],
 "metadata": {
  "kernelspec": {
   "display_name": "Python 3",
   "language": "python",
   "name": "python3"
  },
  "language_info": {
   "codemirror_mode": {
    "name": "ipython",
    "version": 3
   },
   "file_extension": ".py",
   "mimetype": "text/x-python",
   "name": "python",
   "nbconvert_exporter": "python",
   "pygments_lexer": "ipython3",
   "version": "3.8.5"
  }
 },
 "nbformat": 4,
 "nbformat_minor": 4
}
