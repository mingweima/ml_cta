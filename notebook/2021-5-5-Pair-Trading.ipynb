{
 "cells": [
  {
   "cell_type": "code",
   "execution_count": null,
   "metadata": {},
   "outputs": [],
   "source": [
    "import os\n",
    "import math\n",
    "import pandas as pd\n",
    "import numpy as np\n",
    "import matplotlib.pyplot as plt\n",
    "import matplotlib.pylab as pylab\n",
    "import seaborn as sns\n",
    "import glob\n",
    "import statsmodels.api as sm\n",
    "from statsmodels.stats.diagnostic import het_white\n",
    "from statsmodels.compat import lzip\n",
    "from scipy.linalg import toeplitz\n",
    "from patsy import dmatrices\n",
    "from math import sqrt\n",
    "sns.set_style('white')"
   ]
  },
  {
   "cell_type": "code",
   "execution_count": null,
   "metadata": {
    "scrolled": true
   },
   "outputs": [],
   "source": [
    "filename_2019 = glob.glob('../data/2019/*.csv')\n",
    "filename_2019.sort()\n",
    "filename_2019"
   ]
  },
  {
   "cell_type": "code",
   "execution_count": null,
   "metadata": {},
   "outputs": [],
   "source": [
    "X = 'lm'\n",
    "Y = 'vm'"
   ]
  },
  {
   "cell_type": "code",
   "execution_count": null,
   "metadata": {},
   "outputs": [],
   "source": [
    "df = pd.read_csv(f'../data/2018/{X}.csv', index_col=0, encoding='gbk')\n",
    "df.columns = ['code', 'time', 'open', 'high', 'low', f'{X}_close', f'{X}_volume', 'turnover', 'open interest']\n",
    "df.rename_axis(\"type\", axis='index', inplace=True)\n",
    "df['time'] = pd.to_datetime(df['time'])\n",
    "\n",
    "\n",
    "#df.set_index('time', inplace=True)\n",
    "df.reset_index(inplace=True)\n",
    "df"
   ]
  },
  {
   "cell_type": "code",
   "execution_count": null,
   "metadata": {},
   "outputs": [],
   "source": [
    "df[[f'{X}_close']].plot(grid=False, figsize=(12,4))\n",
    "sns.despine()"
   ]
  },
  {
   "cell_type": "code",
   "execution_count": null,
   "metadata": {},
   "outputs": [],
   "source": [
    "df_other = pd.read_csv(f'../data/2018/{Y}.csv', index_col=0, encoding='gbk')\n",
    "df_other.columns = ['code', 'time', 'open', 'high', 'low', f'{Y}_close', f'{Y}_volume', 'turnover', 'open interest']\n",
    "df_other.rename_axis(\"type\", axis='index', inplace=True)\n",
    "df_other['time'] = pd.to_datetime(df_other['time'])\n",
    "\n",
    "#df_other.set_index('time', inplace=True)\n",
    "df_other.reset_index(inplace=True)\n",
    "\n",
    "df_other"
   ]
  },
  {
   "cell_type": "code",
   "execution_count": null,
   "metadata": {},
   "outputs": [],
   "source": [
    "df_other[[f'{Y}_close']].plot(grid=False, figsize=(12,4))\n",
    "sns.despine()"
   ]
  },
  {
   "cell_type": "code",
   "execution_count": null,
   "metadata": {},
   "outputs": [],
   "source": [
    "# df = df[[f'{X}_close', f'{X}_volume']]\n",
    "\n",
    "irrelevant_col = ['code', 'open', 'high', 'low', 'turnover', 'open interest']\n",
    "df.drop(columns=irrelevant_col, inplace = True)\n",
    "    \n",
    "df[f'{Y}_close'] = df_other.loc[:, f'{Y}_close'].copy()\n",
    "df[f'{Y}_volume'] = df_other.loc[:, f'{Y}_volume'].copy()"
   ]
  },
  {
   "cell_type": "code",
   "execution_count": null,
   "metadata": {},
   "outputs": [],
   "source": [
    "df['date'] = df['time'].dt.date\n",
    "\n",
    "df['date_after'] = df['date'].shift(-1)\n",
    "df[\"daily_close\"] = (df[\"date_after\"] != df[\"date\"])\n",
    "df_day = df.loc[df[\"daily_close\"] ].copy()\n",
    "df_day[[f'{X}_close',f'{Y}_close']].plot(grid=False, figsize=(12,4))\n",
    "sns.despine()\n",
    "#df_day.set_index('date', inplace=True)\n",
    "df_day.reset_index(inplace=True)"
   ]
  },
  {
   "cell_type": "code",
   "execution_count": null,
   "metadata": {},
   "outputs": [],
   "source": [
    "df_day[f'{X}_log_ret'] = np.log(df_day[f'{X}_close']/df_day[f'{X}_close'].shift(1))\n",
    "df_day[f'{Y}_log_ret'] = np.log(df_day[f'{Y}_close']/df_day[f'{Y}_close'].shift(1))"
   ]
  },
  {
   "cell_type": "code",
   "execution_count": null,
   "metadata": {},
   "outputs": [],
   "source": [
    "df_day"
   ]
  },
  {
   "cell_type": "code",
   "execution_count": null,
   "metadata": {},
   "outputs": [],
   "source": [
    "def calculate_hull_moving_average(df, period, close):\n",
    "\n",
    "    df['window_t_ewm'] = df[close].ewm(span=period).mean()\n",
    "    df['window_half_ewm'] = df[close].ewm(span=period/2).mean()\n",
    "    df['diff']=df['window_half_ewm'] * 2 - df['window_t_ewm']\n",
    "    \n",
    "    df[f'hma{period}_{close}']=df['diff'].ewm(span=int(math.sqrt(period))).mean()\n",
    "    \n",
    "    irrelevant_col = ['window_t_ewm', 'window_half_ewm', 'diff']\n",
    "    df.drop(columns=irrelevant_col, inplace = True)\n",
    "    "
   ]
  },
  {
   "cell_type": "code",
   "execution_count": null,
   "metadata": {},
   "outputs": [],
   "source": [
    "calculate_hull_moving_average(df_day, 7, f'{X}_close')\n",
    "calculate_hull_moving_average(df_day, 7, f'{Y}_close')\n",
    "df_day[[f'hma7_{X}_close',f'hma7_{Y}_close']].plot(grid=False, figsize=(12,4))\n",
    "sns.despine()"
   ]
  },
  {
   "cell_type": "code",
   "execution_count": null,
   "metadata": {},
   "outputs": [],
   "source": [
    "fig, axs = plt.subplots(2, 3, figsize=(18, 15))\n",
    "df_day[f'{X}_close'].plot(ax=axs[0, 0], title=f'Plot of prices for {X}', grid=True)\n",
    "df_day[f'{X}_log_ret'].plot(ax=axs[0, 1], title=f'Plot of log-returns for {X}', grid=True)\n",
    "df_day[f'{X}_log_ret'].plot(kind='hist', bins=100, ax=axs[0, 2], title=f'Distribution of log-returns for {X}', grid=True)\n",
    "axs[0, 2].axvline(df_day[f'{X}_log_ret'].median(), color='red', linestyle='--')\n",
    "\n",
    "df_day[f'{Y}_close'].plot( ax=axs[1, 0], title=f'Plot of prices for {Y}', grid=True)\n",
    "df_day[f'{Y}_log_ret'].plot(ax=axs[1, 1], grid=True, title=f'Plot of log-returns for {Y}',)\n",
    "df_day[f'{Y}_log_ret'].plot(kind='hist', bins=100, ax=axs[1, 2], grid=True, title=f'Distribution of log-returns for {Y}',);\n",
    "axs[1, 2].axvline(df_day[f'{Y}_log_ret'].median(), color='red', linestyle='--');"
   ]
  },
  {
   "cell_type": "code",
   "execution_count": null,
   "metadata": {},
   "outputs": [],
   "source": [
    "long_leg = f'{X}_log_ret'\n",
    "short_leg = f'{Y}_log_ret'\n",
    "df_spreads = pd.DataFrame()\n",
    "\n",
    "for rolling_period in range(1, 51):\n",
    "    df_spreads[rolling_period] = df_day[long_leg].rolling(rolling_period).sum() - df_day[short_leg].rolling(rolling_period).sum()"
   ]
  },
  {
   "cell_type": "code",
   "execution_count": null,
   "metadata": {},
   "outputs": [],
   "source": [
    "df_spread_stats = df_spreads.describe([x/10 for x in range(1,10)] + [0.005, 0.995])"
   ]
  },
  {
   "cell_type": "code",
   "execution_count": null,
   "metadata": {},
   "outputs": [],
   "source": [
    "df_spreads[[1, 10, 20, 30, 40, 50]].plot(figsize=(12, 6), grid=True, \n",
    "                                         ylabel='Diff. of $M$ period log-returns RTH - XRT',\n",
    "                                         title='Log-return difference between RTH and XRT for different values of rolling period $M$');"
   ]
  },
  {
   "cell_type": "code",
   "execution_count": null,
   "metadata": {},
   "outputs": [],
   "source": []
  }
 ],
 "metadata": {
  "kernelspec": {
   "display_name": "Python 3",
   "language": "python",
   "name": "python3"
  },
  "language_info": {
   "codemirror_mode": {
    "name": "ipython",
    "version": 3
   },
   "file_extension": ".py",
   "mimetype": "text/x-python",
   "name": "python",
   "nbconvert_exporter": "python",
   "pygments_lexer": "ipython3",
   "version": "3.8.5"
  }
 },
 "nbformat": 4,
 "nbformat_minor": 4
}
